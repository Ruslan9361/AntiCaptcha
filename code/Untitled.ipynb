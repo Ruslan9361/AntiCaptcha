{
 "cells": [
  {
   "cell_type": "markdown",
   "id": "a8902e2a-56c8-4249-95a7-5f97c95f002a",
   "metadata": {},
   "source": [
    "То что советуют на Habr"
   ]
  },
  {
   "cell_type": "code",
   "execution_count": null,
   "id": "8c5110c4-f96c-46fb-83a2-5967ec641c05",
   "metadata": {},
   "outputs": [],
   "source": [
    "\"\"\" Библиотеки для предобработки картинок  \"\"\" \n",
    "from glob import glob  # Позволит читать пути до папок \n",
    "import cv2 as cv\n",
    "import re\n",
    "import numpy as np"
   ]
  },
  {
   "cell_type": "code",
   "execution_count": null,
   "id": "c2ed432c-71c4-4d20-b3f1-c6fb758c68df",
   "metadata": {},
   "outputs": [],
   "source": [
    "\"\"\" Cоздадим скриптом по 9 папок (каждая соответствует одному символу) внутри training_data и test_data. \n",
    "В них мы и будем хранить картинки с вырезанными областями из картинки с капчей, соответствующими одному символу:\"\"\"\n",
    "target_mapper = {'1':1 , '2':2, '3':3 , '4':4, '5':5, '6':6, '7':7 , '8':8, '9':9, '0':0}\n",
    "parent_dir = os.getcwd()\n",
    "\n",
    "train_data = os.path.join(parent_dir, \"training_data\")\n",
    "test_data = os.path.join(parent_dir, \"test_data\")\n",
    "\n",
    "for symbol in target_mapper.keys():\n",
    "    path = os.path.join(train_data, str(target_mapper[symbol]))\n",
    "    try:\n",
    "        os.mkdir(path)\n",
    "    except:\n",
    "        print(f\"{path} already exists\")\n",
    "\n",
    "    path = os.path.join(test_data, str(target_mapper[symbol]))\n",
    "    try:\n",
    "        os.mkdir(path)\n",
    "    except:\n",
    "        print(f\"{path} already exists\")"
   ]
  },
  {
   "cell_type": "code",
   "execution_count": null,
   "id": "8ebe8151-cc24-4155-bb6f-43842003d930",
   "metadata": {},
   "outputs": [],
   "source": [
    "\"\"\"Считываем картинку и делаем ее бинарной \"\"\"\n",
    "img = cv.imread(all_captchas[idx])\n",
    "\n",
    "# convert to grayscale\n",
    "gray = cv.cvtColor(img, cv.COLOR_BGR2GRAY)\n"
   ]
  },
  {
   "cell_type": "code",
   "execution_count": null,
   "id": "86bdf1d9-9cc5-4a25-87a5-333540d3d876",
   "metadata": {},
   "outputs": [],
   "source": [
    "\"\"\"размажем немного картинку и создадим новый объект, где мы по-пиксельно разделим нашу картинку в серых тонах на заблюренную. \n",
    "Это поможет сразу в двух вещах: сделать единые контуры символов без разрывов и снизить уровень шума на картинках. (Вот этот момент я не понял до конца )\"\"\"\n",
    "# blur\n",
    "blur = cv.GaussianBlur(gray, (0, 0), sigmaX=33, sigmaY=33)\n",
    "# divide\n",
    "divide = cv.divide(gray, blur, scale=255)"
   ]
  },
  {
   "cell_type": "code",
   "execution_count": null,
   "id": "57834af5-723c-4141-95f3-2a2be4abc39f",
   "metadata": {},
   "outputs": [],
   "source": [
    "\"\"\" Применяем алгоритм OTSU для того чтобы пиксель имел значения только 0 или 255  \"\"\"\n",
    "# otsu threshold\n",
    "thresh = cv.threshold(divide, 0, 255, cv.THRESH_BINARY+cv.THRESH_OTSU)[1] "
   ]
  },
  {
   "cell_type": "code",
   "execution_count": null,
   "id": "955b1133-0742-4eb4-ab24-7e93f0cecbd0",
   "metadata": {},
   "outputs": [],
   "source": [
    "\"\"\" Теперь проведем очистку шумов внутри наших символов, чтобы получить четкие контуры. \n",
    "Для того, чтобы сделать это, используются две операции: эрозия и расширение \"\"\"\n",
    "# apply morphology\n",
    "kernel = cv.getStructuringElement(cv.MORPH_RECT, (4, 4)) # создание ядра\n",
    "morph = cv.morphologyEx(thresh, cv.MORPH_CLOSE, kernel) # dilation & erosion"
   ]
  },
  {
   "cell_type": "code",
   "execution_count": null,
   "id": "63457f93-3ffa-43e0-bd22-4cb70485f714",
   "metadata": {},
   "outputs": [],
   "source": [
    "\"\"\" Теперь проведем операцию, которая оставит нам только тонкую полоску на границе символа без заливки \n",
    "(не обязательно, но может помочь оставить меньше внутренних контуров) \"\"\"\n",
    "threshold = 150\n",
    "canny_output = cv.Canny(morph, threshold, threshold * 2)\n",
    "canny_output_cp = canny_output.copy()\n",
    "canny_output = cv.blur(canny_output, (3, 3))"
   ]
  },
  {
   "cell_type": "code",
   "execution_count": null,
   "id": "d918b61c-c378-4ef5-9cd6-7d2c4fd193ce",
   "metadata": {},
   "outputs": [],
   "source": [
    "\"\"\" найдем контуры \"\"\"\n",
    "contours, hierarchy = cv.findContours(\n",
    "  canny_output, cv.RETR_TREE, cv.CHAIN_APPROX_SIMPLE\n",
    ")"
   ]
  },
  {
   "cell_type": "code",
   "execution_count": null,
   "id": "fffbd48d-3b99-4203-be9a-7774bd2f20ac",
   "metadata": {},
   "outputs": [],
   "source": [
    "То что посоветовал ChatGPT (по разбитию картинки на контуры (цифры) и их разделению) "
   ]
  },
  {
   "cell_type": "code",
   "execution_count": null,
   "id": "4d1c1f07-3296-4482-a1d4-f7cecc6ee08a",
   "metadata": {},
   "outputs": [],
   "source": [
    "import cv2\n",
    "import numpy as np\n",
    "from matplotlib import pyplot as plt\n",
    "\n",
    "# Загрузим изображение\n",
    "image_path = '/mnt/data/image.png'\n",
    "image = cv2.imread(image_path)\n",
    "\n",
    "# Преобразуем изображение в оттенки серого\n",
    "gray = cv2.cvtColor(image, cv2.COLOR_BGR2GRAY)\n",
    "\n",
    "# Применим бинарную пороговую обработку\n",
    "_, binary = cv2.threshold(gray, 128, 255, cv2.THRESH_BINARY_INV + cv2.THRESH_OTSU)\n",
    "\n",
    "# Найдем контуры\n",
    "contours, _ = cv2.findContours(binary, cv2.RETR_EXTERNAL, cv2.CHAIN_APPROX_SIMPLE)\n",
    "\n",
    "# Отсортируем контуры слева направо\n",
    "contours = sorted(contours, key=lambda c: cv2.boundingRect(c)[0])\n",
    "\n",
    "# Нарисуем контуры на изображении\n",
    "contoured_image = image.copy()\n",
    "cv2.drawContours(contoured_image, contours, -1, (0, 255, 0), 2)\n",
    "\n",
    "# Покажем изображение с контурами\n",
    "plt.figure(figsize=(10, 5))\n",
    "plt.imshow(cv2.cvtColor(contoured_image, cv2.COLOR_BGR2RGB))\n",
    "plt.title('Контуры цифр')\n",
    "plt.axis('off')\n",
    "plt.show()\n",
    "\n",
    "# Сохраним отдельные цифры как отдельные изображения\n",
    "digit_images = []\n",
    "for i, contour in enumerate(contours):\n",
    "    x, y, w, h = cv2.boundingRect(contour)\n",
    "    digit_image = image[y:y+h, x:x+w]\n",
    "    digit_images.append(digit_image)\n",
    "    cv2.imwrite(f'/mnt/data/digit_{i+1}.png', digit_image)\n",
    "\n",
    "digit_images, [f'/mnt/data/digit_{i+1}.png' for i in range(len(digit_images))]\n"
   ]
  }
 ],
 "metadata": {
  "kernelspec": {
   "display_name": "Python 3 (ipykernel)",
   "language": "python",
   "name": "python3"
  },
  "language_info": {
   "codemirror_mode": {
    "name": "ipython",
    "version": 3
   },
   "file_extension": ".py",
   "mimetype": "text/x-python",
   "name": "python",
   "nbconvert_exporter": "python",
   "pygments_lexer": "ipython3",
   "version": "3.10.12"
  }
 },
 "nbformat": 4,
 "nbformat_minor": 5
}
